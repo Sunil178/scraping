{
 "cells": [
  {
   "cell_type": "code",
   "execution_count": 1,
   "metadata": {},
   "outputs": [],
   "source": [
    "from selenium import webdriver\n",
    "import pandas as pd"
   ]
  },
  {
   "cell_type": "code",
   "execution_count": 2,
   "metadata": {},
   "outputs": [
    {
     "ename": "WebDriverException",
     "evalue": "Message: unknown error: cannot determine loading status\nfrom unknown error: missing or invalid 'entry.level'\n  (Session info: chrome=80.0.3987.116)\n  (Driver info: chromedriver=2.26.436382 (70eb799287ce4c2208441fc057053a5b07ceabac),platform=Linux 5.3.0-45-generic x86_64)\n",
     "output_type": "error",
     "traceback": [
      "\u001b[0;31m---------------------------------------------------------------------------\u001b[0m",
      "\u001b[0;31mWebDriverException\u001b[0m                        Traceback (most recent call last)",
      "\u001b[0;32m<ipython-input-2-e610bd89fee8>\u001b[0m in \u001b[0;36m<module>\u001b[0;34m\u001b[0m\n\u001b[1;32m      1\u001b[0m \u001b[0mdriver\u001b[0m \u001b[0;34m=\u001b[0m \u001b[0mwebdriver\u001b[0m\u001b[0;34m.\u001b[0m\u001b[0mChrome\u001b[0m\u001b[0;34m(\u001b[0m\u001b[0;34m'/usr/local/share/chromedriver'\u001b[0m\u001b[0;34m)\u001b[0m\u001b[0;34m\u001b[0m\u001b[0;34m\u001b[0m\u001b[0m\n\u001b[0;32m----> 2\u001b[0;31m \u001b[0mdriver\u001b[0m\u001b[0;34m.\u001b[0m\u001b[0mget\u001b[0m\u001b[0;34m(\u001b[0m\u001b[0;34m\"https://www.allsides.com/unbiased-balanced-news\"\u001b[0m\u001b[0;34m)\u001b[0m\u001b[0;34m\u001b[0m\u001b[0;34m\u001b[0m\u001b[0m\n\u001b[0m",
      "\u001b[0;32m~/.local/lib/python3.6/site-packages/selenium/webdriver/remote/webdriver.py\u001b[0m in \u001b[0;36mget\u001b[0;34m(self, url)\u001b[0m\n\u001b[1;32m    331\u001b[0m         \u001b[0mLoads\u001b[0m \u001b[0ma\u001b[0m \u001b[0mweb\u001b[0m \u001b[0mpage\u001b[0m \u001b[0;32min\u001b[0m \u001b[0mthe\u001b[0m \u001b[0mcurrent\u001b[0m \u001b[0mbrowser\u001b[0m \u001b[0msession\u001b[0m\u001b[0;34m.\u001b[0m\u001b[0;34m\u001b[0m\u001b[0;34m\u001b[0m\u001b[0m\n\u001b[1;32m    332\u001b[0m         \"\"\"\n\u001b[0;32m--> 333\u001b[0;31m         \u001b[0mself\u001b[0m\u001b[0;34m.\u001b[0m\u001b[0mexecute\u001b[0m\u001b[0;34m(\u001b[0m\u001b[0mCommand\u001b[0m\u001b[0;34m.\u001b[0m\u001b[0mGET\u001b[0m\u001b[0;34m,\u001b[0m \u001b[0;34m{\u001b[0m\u001b[0;34m'url'\u001b[0m\u001b[0;34m:\u001b[0m \u001b[0murl\u001b[0m\u001b[0;34m}\u001b[0m\u001b[0;34m)\u001b[0m\u001b[0;34m\u001b[0m\u001b[0;34m\u001b[0m\u001b[0m\n\u001b[0m\u001b[1;32m    334\u001b[0m \u001b[0;34m\u001b[0m\u001b[0m\n\u001b[1;32m    335\u001b[0m     \u001b[0;34m@\u001b[0m\u001b[0mproperty\u001b[0m\u001b[0;34m\u001b[0m\u001b[0;34m\u001b[0m\u001b[0m\n",
      "\u001b[0;32m~/.local/lib/python3.6/site-packages/selenium/webdriver/remote/webdriver.py\u001b[0m in \u001b[0;36mexecute\u001b[0;34m(self, driver_command, params)\u001b[0m\n\u001b[1;32m    319\u001b[0m         \u001b[0mresponse\u001b[0m \u001b[0;34m=\u001b[0m \u001b[0mself\u001b[0m\u001b[0;34m.\u001b[0m\u001b[0mcommand_executor\u001b[0m\u001b[0;34m.\u001b[0m\u001b[0mexecute\u001b[0m\u001b[0;34m(\u001b[0m\u001b[0mdriver_command\u001b[0m\u001b[0;34m,\u001b[0m \u001b[0mparams\u001b[0m\u001b[0;34m)\u001b[0m\u001b[0;34m\u001b[0m\u001b[0;34m\u001b[0m\u001b[0m\n\u001b[1;32m    320\u001b[0m         \u001b[0;32mif\u001b[0m \u001b[0mresponse\u001b[0m\u001b[0;34m:\u001b[0m\u001b[0;34m\u001b[0m\u001b[0;34m\u001b[0m\u001b[0m\n\u001b[0;32m--> 321\u001b[0;31m             \u001b[0mself\u001b[0m\u001b[0;34m.\u001b[0m\u001b[0merror_handler\u001b[0m\u001b[0;34m.\u001b[0m\u001b[0mcheck_response\u001b[0m\u001b[0;34m(\u001b[0m\u001b[0mresponse\u001b[0m\u001b[0;34m)\u001b[0m\u001b[0;34m\u001b[0m\u001b[0;34m\u001b[0m\u001b[0m\n\u001b[0m\u001b[1;32m    322\u001b[0m             response['value'] = self._unwrap_value(\n\u001b[1;32m    323\u001b[0m                 response.get('value', None))\n",
      "\u001b[0;32m~/.local/lib/python3.6/site-packages/selenium/webdriver/remote/errorhandler.py\u001b[0m in \u001b[0;36mcheck_response\u001b[0;34m(self, response)\u001b[0m\n\u001b[1;32m    240\u001b[0m                 \u001b[0malert_text\u001b[0m \u001b[0;34m=\u001b[0m \u001b[0mvalue\u001b[0m\u001b[0;34m[\u001b[0m\u001b[0;34m'alert'\u001b[0m\u001b[0;34m]\u001b[0m\u001b[0;34m.\u001b[0m\u001b[0mget\u001b[0m\u001b[0;34m(\u001b[0m\u001b[0;34m'text'\u001b[0m\u001b[0;34m)\u001b[0m\u001b[0;34m\u001b[0m\u001b[0;34m\u001b[0m\u001b[0m\n\u001b[1;32m    241\u001b[0m             \u001b[0;32mraise\u001b[0m \u001b[0mexception_class\u001b[0m\u001b[0;34m(\u001b[0m\u001b[0mmessage\u001b[0m\u001b[0;34m,\u001b[0m \u001b[0mscreen\u001b[0m\u001b[0;34m,\u001b[0m \u001b[0mstacktrace\u001b[0m\u001b[0;34m,\u001b[0m \u001b[0malert_text\u001b[0m\u001b[0;34m)\u001b[0m\u001b[0;34m\u001b[0m\u001b[0;34m\u001b[0m\u001b[0m\n\u001b[0;32m--> 242\u001b[0;31m         \u001b[0;32mraise\u001b[0m \u001b[0mexception_class\u001b[0m\u001b[0;34m(\u001b[0m\u001b[0mmessage\u001b[0m\u001b[0;34m,\u001b[0m \u001b[0mscreen\u001b[0m\u001b[0;34m,\u001b[0m \u001b[0mstacktrace\u001b[0m\u001b[0;34m)\u001b[0m\u001b[0;34m\u001b[0m\u001b[0;34m\u001b[0m\u001b[0m\n\u001b[0m\u001b[1;32m    243\u001b[0m \u001b[0;34m\u001b[0m\u001b[0m\n\u001b[1;32m    244\u001b[0m     \u001b[0;32mdef\u001b[0m \u001b[0m_value_or_default\u001b[0m\u001b[0;34m(\u001b[0m\u001b[0mself\u001b[0m\u001b[0;34m,\u001b[0m \u001b[0mobj\u001b[0m\u001b[0;34m,\u001b[0m \u001b[0mkey\u001b[0m\u001b[0;34m,\u001b[0m \u001b[0mdefault\u001b[0m\u001b[0;34m)\u001b[0m\u001b[0;34m:\u001b[0m\u001b[0;34m\u001b[0m\u001b[0;34m\u001b[0m\u001b[0m\n",
      "\u001b[0;31mWebDriverException\u001b[0m: Message: unknown error: cannot determine loading status\nfrom unknown error: missing or invalid 'entry.level'\n  (Session info: chrome=80.0.3987.116)\n  (Driver info: chromedriver=2.26.436382 (70eb799287ce4c2208441fc057053a5b07ceabac),platform=Linux 5.3.0-45-generic x86_64)\n"
     ]
    }
   ],
   "source": [
    "driver = webdriver.Chrome('/usr/local/share/chromedriver')\n",
    "driver.get(\"https://www.allsides.com/unbiased-balanced-news\")"
   ]
  },
  {
   "cell_type": "code",
   "execution_count": null,
   "metadata": {},
   "outputs": [],
   "source": [
    "div = driver.find_element_by_class_name(\"region-triptych-center\")\n",
    "title = div.find_elements_by_class_name(\"news-title\")\n",
    "source = div.find_elements_by_class_name(\"news-source\")\n",
    "titles = []\n",
    "sources = []\n",
    "for a,b in zip(title,source):\n",
    "    print(b.text)\n",
    "    titles.append(a.text)\n",
    "    sources.append(b.text)\n",
    "    bias = [\"Centre\"]*len(titles)\n",
    "\n",
    "df = pd.DataFrame()\n",
    "df[\"Title\"] = titles\n",
    "df[\"Bias\"] = bias\n",
    "df[\"Source\"] = sources"
   ]
  },
  {
   "cell_type": "code",
   "execution_count": null,
   "metadata": {},
   "outputs": [],
   "source": [
    "div = driver.find_element_by_class_name(\"region-triptych-left\")\n",
    "title = div.find_elements_by_class_name(\"news-title\")\n",
    "source = div.find_elements_by_class_name(\"news-source\")\n",
    "titles = []\n",
    "sources = []\n",
    "for a,b in zip(title,source):\n",
    "    print(b.text)\n",
    "    titles.append(a.text)\n",
    "    sources.append(b.text)\n",
    "    bias = [\"Left\"]*len(titles)\n",
    "    \n",
    "df1 = pd.DataFrame()\n",
    "df1[\"Title\"] = titles\n",
    "df1[\"Bias\"] = bias\n",
    "df1[\"Source\"] = sources"
   ]
  },
  {
   "cell_type": "code",
   "execution_count": null,
   "metadata": {},
   "outputs": [],
   "source": [
    "div = driver.find_element_by_class_name(\"region-triptych-right\")\n",
    "title = div.find_elements_by_class_name(\"news-title\")\n",
    "source = div.find_elements_by_class_name(\"news-source\")\n",
    "titles = []\n",
    "sources = []\n",
    "for a,b in zip(title,source):\n",
    "    print(b.text)\n",
    "    titles.append(a.text)\n",
    "    sources.append(b.text)\n",
    "    bias = [\"Right\"]*len(titles)\n",
    "    \n",
    "df2 = pd.DataFrame()\n",
    "df2[\"Title\"] = titles\n",
    "df2[\"Bias\"] = bias\n",
    "df2[\"Source\"] = sources"
   ]
  },
  {
   "cell_type": "code",
   "execution_count": 6,
   "metadata": {},
   "outputs": [],
   "source": [
    "comb_df = [df,df1,df2]\n",
    "final_df = pd.concat(comb_df)\n",
    "final_df.to_csv(\"Allsides45.csv\",sep=\",\",index=False)"
   ]
  },
  {
   "cell_type": "code",
   "execution_count": 7,
   "metadata": {},
   "outputs": [],
   "source": [
    "final_df_trial = pd.read_csv(\"Allsides43.csv\")"
   ]
  },
  {
   "cell_type": "code",
   "execution_count": 8,
   "metadata": {},
   "outputs": [
    {
     "data": {
      "text/html": [
       "<div>\n",
       "<style scoped>\n",
       "    .dataframe tbody tr th:only-of-type {\n",
       "        vertical-align: middle;\n",
       "    }\n",
       "\n",
       "    .dataframe tbody tr th {\n",
       "        vertical-align: top;\n",
       "    }\n",
       "\n",
       "    .dataframe thead th {\n",
       "        text-align: right;\n",
       "    }\n",
       "</style>\n",
       "<table border=\"1\" class=\"dataframe\">\n",
       "  <thead>\n",
       "    <tr style=\"text-align: right;\">\n",
       "      <th></th>\n",
       "      <th>Title</th>\n",
       "      <th>Bias</th>\n",
       "      <th>Source</th>\n",
       "    </tr>\n",
       "  </thead>\n",
       "  <tbody>\n",
       "    <tr>\n",
       "      <th>0</th>\n",
       "      <td>Captain Crozier Dismissed from Command</td>\n",
       "      <td>Centre</td>\n",
       "      <td>Abridge News</td>\n",
       "    </tr>\n",
       "    <tr>\n",
       "      <th>1</th>\n",
       "      <td>Tiger at Bronx Zoo tests positive for coronavirus</td>\n",
       "      <td>Centre</td>\n",
       "      <td>Axios</td>\n",
       "    </tr>\n",
       "    <tr>\n",
       "      <th>2</th>\n",
       "      <td>How to make your own face mask to help stop th...</td>\n",
       "      <td>Centre</td>\n",
       "      <td>USA TODAY</td>\n",
       "    </tr>\n",
       "    <tr>\n",
       "      <th>3</th>\n",
       "      <td>States Explore More Vote-By-Mail Options to Co...</td>\n",
       "      <td>Centre</td>\n",
       "      <td>Wall Street Journal - News</td>\n",
       "    </tr>\n",
       "    <tr>\n",
       "      <th>4</th>\n",
       "      <td>Virus lays bare the frailty of the social cont...</td>\n",
       "      <td>Centre</td>\n",
       "      <td>Financial Times</td>\n",
       "    </tr>\n",
       "    <tr>\n",
       "      <th>5</th>\n",
       "      <td>Jared Kushner's Role In Coronavirus Response D...</td>\n",
       "      <td>Centre</td>\n",
       "      <td>NPR Online News</td>\n",
       "    </tr>\n",
       "    <tr>\n",
       "      <th>6</th>\n",
       "      <td>Trump Rejects Voting-by-Mail Amid Virus, Citin...</td>\n",
       "      <td>Centre</td>\n",
       "      <td>Bloomberg</td>\n",
       "    </tr>\n",
       "    <tr>\n",
       "      <th>7</th>\n",
       "      <td>FACT CHECK: Trump On Not Expanding Insurance, ...</td>\n",
       "      <td>Centre</td>\n",
       "      <td>NPR Online News</td>\n",
       "    </tr>\n",
       "    <tr>\n",
       "      <th>8</th>\n",
       "      <td>Trump says CDC advises cloth masks to protect ...</td>\n",
       "      <td>Centre</td>\n",
       "      <td>CNBC</td>\n",
       "    </tr>\n",
       "    <tr>\n",
       "      <th>9</th>\n",
       "      <td>How online learning may be more than a stopgap...</td>\n",
       "      <td>Centre</td>\n",
       "      <td>Christian Science Monitor</td>\n",
       "    </tr>\n",
       "    <tr>\n",
       "      <th>10</th>\n",
       "      <td>Fact check: Did the Obama administration deple...</td>\n",
       "      <td>Centre</td>\n",
       "      <td>USA TODAY</td>\n",
       "    </tr>\n",
       "    <tr>\n",
       "      <th>11</th>\n",
       "      <td>Rural America braces for coronavirus</td>\n",
       "      <td>Centre</td>\n",
       "      <td>The Hill</td>\n",
       "    </tr>\n",
       "    <tr>\n",
       "      <th>12</th>\n",
       "      <td>Are the Markets Underestimating a Coronavirus ...</td>\n",
       "      <td>Centre</td>\n",
       "      <td>Foreign Policy</td>\n",
       "    </tr>\n",
       "    <tr>\n",
       "      <th>13</th>\n",
       "      <td>Is The Coronavirus Spread In The U.S. Really S...</td>\n",
       "      <td>Centre</td>\n",
       "      <td>Forbes</td>\n",
       "    </tr>\n",
       "    <tr>\n",
       "      <th>14</th>\n",
       "      <td>Virus cost may top $4 trillion; Americans arm ...</td>\n",
       "      <td>Centre</td>\n",
       "      <td>Associated Press</td>\n",
       "    </tr>\n",
       "    <tr>\n",
       "      <th>15</th>\n",
       "      <td>Wisconsin legislature comes under fire for ‘un...</td>\n",
       "      <td>Left</td>\n",
       "      <td>Washington Post</td>\n",
       "    </tr>\n",
       "    <tr>\n",
       "      <th>16</th>\n",
       "      <td>The mystery of why the coronavirus kills some ...</td>\n",
       "      <td>Left</td>\n",
       "      <td>CNN (Web News)</td>\n",
       "    </tr>\n",
       "    <tr>\n",
       "      <th>17</th>\n",
       "      <td>Voting in the Time of the Coronavirus</td>\n",
       "      <td>Left</td>\n",
       "      <td>The New Yorker</td>\n",
       "    </tr>\n",
       "    <tr>\n",
       "      <th>18</th>\n",
       "      <td>After The Coronavirus Passes, Your World Will ...</td>\n",
       "      <td>Left</td>\n",
       "      <td>BuzzFeed News</td>\n",
       "    </tr>\n",
       "    <tr>\n",
       "      <th>19</th>\n",
       "      <td>On anniversary of MLK's death, his words are '...</td>\n",
       "      <td>Left</td>\n",
       "      <td>NBC (Web News)</td>\n",
       "    </tr>\n",
       "    <tr>\n",
       "      <th>20</th>\n",
       "      <td>Biden tells Sanders he's pushing ahead with VP...</td>\n",
       "      <td>Left</td>\n",
       "      <td>Politico</td>\n",
       "    </tr>\n",
       "    <tr>\n",
       "      <th>21</th>\n",
       "      <td>After Kushner says 'it's our stockpile,' HHS w...</td>\n",
       "      <td>Left</td>\n",
       "      <td>ABC News</td>\n",
       "    </tr>\n",
       "    <tr>\n",
       "      <th>22</th>\n",
       "      <td>This Brooklyn Landlord Just Canceled Rent for ...</td>\n",
       "      <td>Left</td>\n",
       "      <td>New York Times - News</td>\n",
       "    </tr>\n",
       "    <tr>\n",
       "      <th>23</th>\n",
       "      <td>Ban alcohol sales during the pandemic</td>\n",
       "      <td>Left</td>\n",
       "      <td>The Boston Globe</td>\n",
       "    </tr>\n",
       "    <tr>\n",
       "      <th>24</th>\n",
       "      <td>The Supreme Court Is Delaying Arguments Again ...</td>\n",
       "      <td>Left</td>\n",
       "      <td>BuzzFeed News</td>\n",
       "    </tr>\n",
       "    <tr>\n",
       "      <th>25</th>\n",
       "      <td>Behind the right's obsession with a miracle cu...</td>\n",
       "      <td>Left</td>\n",
       "      <td>Salon</td>\n",
       "    </tr>\n",
       "    <tr>\n",
       "      <th>26</th>\n",
       "      <td>What I learned fighting for my life. And why i...</td>\n",
       "      <td>Left</td>\n",
       "      <td>Gabrielle Giffords</td>\n",
       "    </tr>\n",
       "    <tr>\n",
       "      <th>27</th>\n",
       "      <td>Pakistani Taliban down but not out, says ex-sp...</td>\n",
       "      <td>Left</td>\n",
       "      <td>Al Jazeera</td>\n",
       "    </tr>\n",
       "    <tr>\n",
       "      <th>28</th>\n",
       "      <td>Desperate for insight, Trump's team turns to t...</td>\n",
       "      <td>Left</td>\n",
       "      <td>Politico</td>\n",
       "    </tr>\n",
       "    <tr>\n",
       "      <th>29</th>\n",
       "      <td>Experts and Trump’s advisers doubt White House...</td>\n",
       "      <td>Left</td>\n",
       "      <td>Washington Post</td>\n",
       "    </tr>\n",
       "    <tr>\n",
       "      <th>30</th>\n",
       "      <td>Democrat Kentucky Governor Vetoes Mandatory Vo...</td>\n",
       "      <td>Right</td>\n",
       "      <td>Breitbart News</td>\n",
       "    </tr>\n",
       "    <tr>\n",
       "      <th>31</th>\n",
       "      <td>California Providing Millions Of Dollars For I...</td>\n",
       "      <td>Right</td>\n",
       "      <td>The Daily Caller</td>\n",
       "    </tr>\n",
       "    <tr>\n",
       "      <th>32</th>\n",
       "      <td>Coronavirus Reveals Utter Sameness of Democrat...</td>\n",
       "      <td>Right</td>\n",
       "      <td>Reason</td>\n",
       "    </tr>\n",
       "    <tr>\n",
       "      <th>33</th>\n",
       "      <td>As Easter Services Are Canceled, Churches Stru...</td>\n",
       "      <td>Right</td>\n",
       "      <td>PJ Media</td>\n",
       "    </tr>\n",
       "    <tr>\n",
       "      <th>34</th>\n",
       "      <td>Trump suggests firing watchdog was payback for...</td>\n",
       "      <td>Right</td>\n",
       "      <td>Boston Herald</td>\n",
       "    </tr>\n",
       "    <tr>\n",
       "      <th>35</th>\n",
       "      <td>Coronavirus could make 2020 the lawsuit and le...</td>\n",
       "      <td>Right</td>\n",
       "      <td>Washington Examiner</td>\n",
       "    </tr>\n",
       "    <tr>\n",
       "      <th>36</th>\n",
       "      <td>MSNBC anchor confronts Rubio on comment about ...</td>\n",
       "      <td>Right</td>\n",
       "      <td>Fox Online News</td>\n",
       "    </tr>\n",
       "    <tr>\n",
       "      <th>37</th>\n",
       "      <td>‘He’s not smart’: Leaked memo reveals Amazon’s...</td>\n",
       "      <td>Right</td>\n",
       "      <td>New York Post</td>\n",
       "    </tr>\n",
       "    <tr>\n",
       "      <th>38</th>\n",
       "      <td>This recession will finally end the private-se...</td>\n",
       "      <td>Right</td>\n",
       "      <td>MarketWatch</td>\n",
       "    </tr>\n",
       "    <tr>\n",
       "      <th>39</th>\n",
       "      <td>There's Light—and Growth—at the Other End of t...</td>\n",
       "      <td>Right</td>\n",
       "      <td>Reason</td>\n",
       "    </tr>\n",
       "    <tr>\n",
       "      <th>40</th>\n",
       "      <td>Washington Post: ‘Evidence’ Coming Out Of Wuha...</td>\n",
       "      <td>Right</td>\n",
       "      <td>The Daily Wire</td>\n",
       "    </tr>\n",
       "    <tr>\n",
       "      <th>41</th>\n",
       "      <td>Report: Federal Agency Shipped Face Masks Over...</td>\n",
       "      <td>Right</td>\n",
       "      <td>National Review</td>\n",
       "    </tr>\n",
       "    <tr>\n",
       "      <th>42</th>\n",
       "      <td>AOC wants coronavirus reparations for minoriti...</td>\n",
       "      <td>Right</td>\n",
       "      <td>Washington Times</td>\n",
       "    </tr>\n",
       "    <tr>\n",
       "      <th>43</th>\n",
       "      <td>Mitch McConnell halts push for ‘phase 4’ coron...</td>\n",
       "      <td>Right</td>\n",
       "      <td>New York Post</td>\n",
       "    </tr>\n",
       "    <tr>\n",
       "      <th>44</th>\n",
       "      <td>Paycheck Protection Act Takes Effect Today: 'P...</td>\n",
       "      <td>Right</td>\n",
       "      <td>CBN</td>\n",
       "    </tr>\n",
       "  </tbody>\n",
       "</table>\n",
       "</div>"
      ],
      "text/plain": [
       "                                                Title    Bias  \\\n",
       "0              Captain Crozier Dismissed from Command  Centre   \n",
       "1   Tiger at Bronx Zoo tests positive for coronavirus  Centre   \n",
       "2   How to make your own face mask to help stop th...  Centre   \n",
       "3   States Explore More Vote-By-Mail Options to Co...  Centre   \n",
       "4   Virus lays bare the frailty of the social cont...  Centre   \n",
       "5   Jared Kushner's Role In Coronavirus Response D...  Centre   \n",
       "6   Trump Rejects Voting-by-Mail Amid Virus, Citin...  Centre   \n",
       "7   FACT CHECK: Trump On Not Expanding Insurance, ...  Centre   \n",
       "8   Trump says CDC advises cloth masks to protect ...  Centre   \n",
       "9   How online learning may be more than a stopgap...  Centre   \n",
       "10  Fact check: Did the Obama administration deple...  Centre   \n",
       "11               Rural America braces for coronavirus  Centre   \n",
       "12  Are the Markets Underestimating a Coronavirus ...  Centre   \n",
       "13  Is The Coronavirus Spread In The U.S. Really S...  Centre   \n",
       "14  Virus cost may top $4 trillion; Americans arm ...  Centre   \n",
       "15  Wisconsin legislature comes under fire for ‘un...    Left   \n",
       "16  The mystery of why the coronavirus kills some ...    Left   \n",
       "17              Voting in the Time of the Coronavirus    Left   \n",
       "18  After The Coronavirus Passes, Your World Will ...    Left   \n",
       "19  On anniversary of MLK's death, his words are '...    Left   \n",
       "20  Biden tells Sanders he's pushing ahead with VP...    Left   \n",
       "21  After Kushner says 'it's our stockpile,' HHS w...    Left   \n",
       "22  This Brooklyn Landlord Just Canceled Rent for ...    Left   \n",
       "23              Ban alcohol sales during the pandemic    Left   \n",
       "24  The Supreme Court Is Delaying Arguments Again ...    Left   \n",
       "25  Behind the right's obsession with a miracle cu...    Left   \n",
       "26  What I learned fighting for my life. And why i...    Left   \n",
       "27  Pakistani Taliban down but not out, says ex-sp...    Left   \n",
       "28  Desperate for insight, Trump's team turns to t...    Left   \n",
       "29  Experts and Trump’s advisers doubt White House...    Left   \n",
       "30  Democrat Kentucky Governor Vetoes Mandatory Vo...   Right   \n",
       "31  California Providing Millions Of Dollars For I...   Right   \n",
       "32  Coronavirus Reveals Utter Sameness of Democrat...   Right   \n",
       "33  As Easter Services Are Canceled, Churches Stru...   Right   \n",
       "34  Trump suggests firing watchdog was payback for...   Right   \n",
       "35  Coronavirus could make 2020 the lawsuit and le...   Right   \n",
       "36  MSNBC anchor confronts Rubio on comment about ...   Right   \n",
       "37  ‘He’s not smart’: Leaked memo reveals Amazon’s...   Right   \n",
       "38  This recession will finally end the private-se...   Right   \n",
       "39  There's Light—and Growth—at the Other End of t...   Right   \n",
       "40  Washington Post: ‘Evidence’ Coming Out Of Wuha...   Right   \n",
       "41  Report: Federal Agency Shipped Face Masks Over...   Right   \n",
       "42  AOC wants coronavirus reparations for minoriti...   Right   \n",
       "43  Mitch McConnell halts push for ‘phase 4’ coron...   Right   \n",
       "44  Paycheck Protection Act Takes Effect Today: 'P...   Right   \n",
       "\n",
       "                        Source  \n",
       "0                 Abridge News  \n",
       "1                        Axios  \n",
       "2                    USA TODAY  \n",
       "3   Wall Street Journal - News  \n",
       "4              Financial Times  \n",
       "5              NPR Online News  \n",
       "6                    Bloomberg  \n",
       "7              NPR Online News  \n",
       "8                         CNBC  \n",
       "9    Christian Science Monitor  \n",
       "10                   USA TODAY  \n",
       "11                    The Hill  \n",
       "12              Foreign Policy  \n",
       "13                      Forbes  \n",
       "14            Associated Press  \n",
       "15             Washington Post  \n",
       "16              CNN (Web News)  \n",
       "17              The New Yorker  \n",
       "18               BuzzFeed News  \n",
       "19              NBC (Web News)  \n",
       "20                    Politico  \n",
       "21                    ABC News  \n",
       "22       New York Times - News  \n",
       "23            The Boston Globe  \n",
       "24               BuzzFeed News  \n",
       "25                       Salon  \n",
       "26          Gabrielle Giffords  \n",
       "27                  Al Jazeera  \n",
       "28                    Politico  \n",
       "29             Washington Post  \n",
       "30              Breitbart News  \n",
       "31            The Daily Caller  \n",
       "32                      Reason  \n",
       "33                    PJ Media  \n",
       "34               Boston Herald  \n",
       "35         Washington Examiner  \n",
       "36             Fox Online News  \n",
       "37               New York Post  \n",
       "38                 MarketWatch  \n",
       "39                      Reason  \n",
       "40              The Daily Wire  \n",
       "41             National Review  \n",
       "42            Washington Times  \n",
       "43               New York Post  \n",
       "44                         CBN  "
      ]
     },
     "execution_count": 8,
     "metadata": {},
     "output_type": "execute_result"
    }
   ],
   "source": [
    "final_df_trial"
   ]
  },
  {
   "cell_type": "code",
   "execution_count": 11,
   "metadata": {},
   "outputs": [
    {
     "name": "stdout",
     "output_type": "stream",
     "text": [
      "Obama Campaign Manager Predicts Trump Will Turn out Supporters at a ‘Historical Level’\n",
      "Trump administration is so homophobic that it just rolled back the ban on gay men giving blood\n",
      "The Wuhan Virus May Finally Bring About A Work-From-Home Revolution\n",
      "Coronavirus unemployment benefits: Here’s what you need to know\n",
      "Pelosi to Form Bipartisan Panel to Oversee $2 Trillion Coronavirus Relief\n",
      "Patriots Owner Bob Kraft Flies Almost 2 Million Masks To U.S. From China\n",
      "Newsom: Yes, We Will Use Coronavirus to 'Reimagine a Progressive Era'\n",
      "Trump Should Forget Iran. America Has a Pandemic To Handle.\n",
      "America’s Response to the Coronavirus Proves Federalism Isn’t Dead\n",
      "Trump says he can’t confirm China’s coronavirus case numbers, warns of 'horrific' days to come\n",
      "LA engineer derailed train near USNS Mercy over ‘conspiracy theory’\n",
      "Donald Trump Responds to Illegals Not Getting Stimulus Checks: ‘They Came in Illegally’\n",
      "There Is No Reason to Believe China Is Reporting Its Coronavirus Cases Accurately\n",
      "Free speech group: U. California system cannot ban term ‘Chinese virus’\n",
      "America’s lack of pandemic preparedness is unforgivable\n"
     ]
    }
   ],
   "source": [
    "div = driver.find_element_by_class_name(\"region-triptych-right\")\n",
    "title = div.find_elements_by_class_name(\"news-title\")\n",
    "for a in title:\n",
    "    print(a.text)"
   ]
  },
  {
   "cell_type": "code",
   "execution_count": 13,
   "metadata": {},
   "outputs": [],
   "source": [
    "import readtime"
   ]
  },
  {
   "cell_type": "code",
   "execution_count": 10,
   "metadata": {},
   "outputs": [],
   "source": [
    "result = readtime.of_text(\"\"\"The 62nd Grammy Awards nominations saw Lizzo, Lil Nas X, Billie Eilish, H.E.R., Lana Del Rey, and Ariana Grande among the frontrunners. Lizzo and Billie Eilish were nominated for the 'big four' categories: best new artist, best song, best record, and best album. The ceremony will be hosted by Alicia Keys and will take place on January 26 at the Staples Center in LA.\"\"\")"
   ]
  },
  {
   "cell_type": "code",
   "execution_count": 8,
   "metadata": {},
   "outputs": [
    {
     "name": "stdout",
     "output_type": "stream",
     "text": [
      "Processing /home/volv/.cache/pip/wheels/08/2e/e5/71a8f4be2b11456184c7e7570b702abffe6e7d4f19ee8ece89/readtime-1.1.1-cp37-none-any.whl\n",
      "Collecting markdown2>=1.4.0\n",
      "  Using cached https://files.pythonhosted.org/packages/89/d2/6aef45472f7956646fdc4cc5284e6f9d00476497a8d167c30b0f78bb75a5/markdown2-2.3.8-py2.py3-none-any.whl\n",
      "Collecting pyquery>=1.2\n",
      "  Using cached https://files.pythonhosted.org/packages/78/43/95d42e386c61cb639d1a0b94f0c0b9f0b7d6b981ad3c043a836c8b5bc68b/pyquery-1.4.1-py2.py3-none-any.whl\n",
      "Requirement already satisfied: beautifulsoup4>=4.0.1 in /home/volv/.local/lib/python3.7/site-packages (from readtime) (4.8.1)\n",
      "Requirement already satisfied: lxml>=2.1 in /home/volv/anaconda3/envs/tf-gpu/lib/python3.7/site-packages (from pyquery>=1.2->readtime) (4.4.1)\n",
      "Collecting cssselect>0.7.9\n",
      "  Using cached https://files.pythonhosted.org/packages/3b/d4/3b5c17f00cce85b9a1e6f91096e1cc8e8ede2e1be8e96b87ce1ed09e92c5/cssselect-1.1.0-py2.py3-none-any.whl\n",
      "Requirement already satisfied: soupsieve>=1.2 in /home/volv/.local/lib/python3.7/site-packages (from beautifulsoup4>=4.0.1->readtime) (1.9.5)\n",
      "Installing collected packages: markdown2, cssselect, pyquery, readtime\n",
      "Successfully installed cssselect-1.1.0 markdown2-2.3.8 pyquery-1.4.1 readtime-1.1.1\n"
     ]
    }
   ],
   "source": [
    "!pip install readtime"
   ]
  },
  {
   "cell_type": "code",
   "execution_count": 11,
   "metadata": {},
   "outputs": [
    {
     "data": {
      "text/plain": [
       "16"
      ]
     },
     "execution_count": 11,
     "metadata": {},
     "output_type": "execute_result"
    }
   ],
   "source": [
    "result.seconds"
   ]
  },
  {
   "cell_type": "code",
   "execution_count": 15,
   "metadata": {},
   "outputs": [
    {
     "data": {
      "text/plain": [
       "'1 min'"
      ]
     },
     "execution_count": 15,
     "metadata": {},
     "output_type": "execute_result"
    }
   ],
   "source": [
    "result.text"
   ]
  },
  {
   "cell_type": "code",
   "execution_count": 13,
   "metadata": {},
   "outputs": [],
   "source": [
    "result1 = readtime.of_text(\"\"\"Turkey’s military offensive in northern Syria following Trump’s order for US forces withdrawal “allowed ISIS to rebuild itself and strengthened its ability to plan attacks abroad,” suggests a new Pentagon report. The report reveals that that training for the Kurds “temporarily” stopped, despite the continued ISIS threat. Pentagon spokesman said that SDF training has resumed but “a re-emergence of the group and its capabilities remains a very real possibility”.\n",
    "\"\"\")"
   ]
  },
  {
   "cell_type": "code",
   "execution_count": 14,
   "metadata": {},
   "outputs": [
    {
     "data": {
      "text/plain": [
       "17"
      ]
     },
     "execution_count": 14,
     "metadata": {},
     "output_type": "execute_result"
    }
   ],
   "source": [
    "result1.seconds"
   ]
  },
  {
   "cell_type": "code",
   "execution_count": 16,
   "metadata": {},
   "outputs": [
    {
     "data": {
      "text/plain": [
       "'1 min'"
      ]
     },
     "execution_count": 16,
     "metadata": {},
     "output_type": "execute_result"
    }
   ],
   "source": [
    "result1.text"
   ]
  },
  {
   "cell_type": "code",
   "execution_count": null,
   "metadata": {},
   "outputs": [],
   "source": [
    "20,18,18,19,19 WITH HEADLINES"
   ]
  },
  {
   "cell_type": "code",
   "execution_count": null,
   "metadata": {},
   "outputs": [],
   "source": [
    "17,15,16,17,17 WITHOUT HEADLINES"
   ]
  },
  {
   "cell_type": "code",
   "execution_count": 34,
   "metadata": {},
   "outputs": [],
   "source": [
    "result2 = readtime.of_text(\"\"\"In Iowa’s Democratic debate, Elizabeth Warren and Bernie Sanders went head-to-head after she accused him of saying women can’t beat President Trump in a 2018 conversation. Sanders denied the claim and said that it would be “incomprehensible” for him to make such a statement. The conversation puts further pressure on a strained relationship between the two candidates after Sanders was accused of sending volunteers to trash Warren at her campaigns.\"\"\")"
   ]
  },
  {
   "cell_type": "code",
   "execution_count": 35,
   "metadata": {},
   "outputs": [
    {
     "data": {
      "text/plain": [
       "17"
      ]
     },
     "execution_count": 35,
     "metadata": {},
     "output_type": "execute_result"
    }
   ],
   "source": [
    "result2.seconds"
   ]
  },
  {
   "cell_type": "code",
   "execution_count": 36,
   "metadata": {},
   "outputs": [],
   "source": [
    "result3 = readtime.of_text(\"\"\"Cardi B is being encouraged by presidential hopeful Bernie Sanders to run for office, two days after she expressed her interest in politics. Sanders remarked, “She knows what it’s like to live in poverty and struggle, and added that her experience would be great for politics.” The rapper teamed up with Sanders for a campaign video last year and has endorsed him for president.\"\"\")"
   ]
  },
  {
   "cell_type": "code",
   "execution_count": 37,
   "metadata": {},
   "outputs": [
    {
     "data": {
      "text/plain": [
       "15"
      ]
     },
     "execution_count": 37,
     "metadata": {},
     "output_type": "execute_result"
    }
   ],
   "source": [
    "result3.seconds"
   ]
  },
  {
   "cell_type": "code",
   "execution_count": 38,
   "metadata": {},
   "outputs": [],
   "source": [
    "result4 = readtime.of_text(\"\"\"Disney+ was downloaded over 30M times in the final quarter of 2019, surging ahead of its competitors including TikTok and Youtube. The total downloads include the numbers for both the Apple App Store and Google Play. With over 12M downloads, it also became the most downloaded on Google Play. The firm reportedly raked in over $50M revenue in its first 30 days, beating its rivals including HBO and Showtime.\"\"\")"
   ]
  },
  {
   "cell_type": "code",
   "execution_count": 39,
   "metadata": {},
   "outputs": [
    {
     "data": {
      "text/plain": [
       "16"
      ]
     },
     "execution_count": 39,
     "metadata": {},
     "output_type": "execute_result"
    }
   ],
   "source": [
    "result4.seconds"
   ]
  },
  {
   "cell_type": "code",
   "execution_count": 40,
   "metadata": {},
   "outputs": [],
   "source": [
    "result5 = readtime.of_text(\"\"\"The National Security Agency discovered a major security flaw in Microsoft’s Windows operating system, which potentially could let hackers pose as legitimate software companies. After an alert was sent, Microsoft released a software patch to fix it. The NSA could exploit the bug for intelligence purposes but it rather chose to share this vulnerability information with the company publicly, seemingly as an effort to build trust with cybersecurity researchers.\"\"\")"
   ]
  },
  {
   "cell_type": "code",
   "execution_count": 41,
   "metadata": {},
   "outputs": [
    {
     "data": {
      "text/plain": [
       "17"
      ]
     },
     "execution_count": 41,
     "metadata": {},
     "output_type": "execute_result"
    }
   ],
   "source": [
    "result5.seconds"
   ]
  },
  {
   "cell_type": "code",
   "execution_count": 42,
   "metadata": {},
   "outputs": [],
   "source": [
    "result6 = readtime.of_text(\"\"\"Same-sex marriage is now legally recognized in Northern Ireland. The province is in agreement with the rest of the UK where same-sex marriage has been legal since 2014. The change was in talks since July 2019, when MPs supported amendments that would change abortion laws and legalize same-sex marriage. The first weddings under the Northern Ireland Act 2019, can be expected in the week of Valentine’s Day.\"\"\")"
   ]
  },
  {
   "cell_type": "code",
   "execution_count": 43,
   "metadata": {},
   "outputs": [
    {
     "data": {
      "text/plain": [
       "17"
      ]
     },
     "execution_count": 43,
     "metadata": {},
     "output_type": "execute_result"
    }
   ],
   "source": [
    "result6.seconds"
   ]
  },
  {
   "cell_type": "code",
   "execution_count": 50,
   "metadata": {},
   "outputs": [
    {
     "data": {
      "text/plain": [
       "Washington Times              2\n",
       "Associated Press              2\n",
       "Washington Post               2\n",
       "Washington Examiner           2\n",
       "The Daily Caller              2\n",
       "FactCheck.org                 1\n",
       "CNBC                          1\n",
       "National Review               1\n",
       "The Verge                     1\n",
       "Abridge News                  1\n",
       "Fox Online News               1\n",
       "MarketWatch                   1\n",
       "NPR Online News               1\n",
       "TheBlaze.com                  1\n",
       "New York Times - News         1\n",
       "Time Magazine                 1\n",
       "Townhall                      1\n",
       "Daily Beast                   1\n",
       "Al Jazeera                    1\n",
       "AlterNet                      1\n",
       "New York Times - Opinion      1\n",
       "Axios                         1\n",
       "Los Angeles Times             1\n",
       "Reason                        1\n",
       "Reuters                       1\n",
       "HuffPost                      1\n",
       "Jacobin                       1\n",
       "Yahoo! The 360                1\n",
       "The Hill                      1\n",
       "The Economist                 1\n",
       "The Fulcrum                   1\n",
       "BBC News                      1\n",
       "Chicago Sun-Times             1\n",
       "CNN (Web News)                1\n",
       "Jonah Goldberg                1\n",
       "Breitbart News                1\n",
       "ESPN                          1\n",
       "Wall Street Journal - News    1\n",
       "Scientific American           1\n",
       "CBN                           1\n",
       "Name: Source, dtype: int64"
      ]
     },
     "execution_count": 50,
     "metadata": {},
     "output_type": "execute_result"
    }
   ],
   "source": [
    " final_df[\"Source\"].value_counts()"
   ]
  },
  {
   "cell_type": "code",
   "execution_count": null,
   "metadata": {},
   "outputs": [],
   "source": [
    "sen1 = \"In China, Baby Tests Positive For Coronavirus Just 30 Hours After Birth\"\n",
    "sen2 = \"Coronavirus outbreak: These countries have put China travel restrictions\""
   ]
  }
 ],
 "metadata": {
  "kernelspec": {
   "display_name": "Python 3",
   "language": "python",
   "name": "python3"
  },
  "language_info": {
   "codemirror_mode": {
    "name": "ipython",
    "version": 3
   },
   "file_extension": ".py",
   "mimetype": "text/x-python",
   "name": "python",
   "nbconvert_exporter": "python",
   "pygments_lexer": "ipython3",
   "version": "3.6.9"
  }
 },
 "nbformat": 4,
 "nbformat_minor": 2
}
